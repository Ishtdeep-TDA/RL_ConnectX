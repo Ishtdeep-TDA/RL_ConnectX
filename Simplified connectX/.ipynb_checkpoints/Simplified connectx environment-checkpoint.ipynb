{
 "cells": [
  {
   "cell_type": "code",
   "execution_count": 3,
   "id": "ca987bee-04a0-412a-ba19-8e01ac4df4df",
   "metadata": {},
   "outputs": [],
   "source": [
    "import gym\n",
    "from gym import spaces\n",
    "import numpy as np\n",
    "from pprint import pprint\n",
    "import random"
   ]
  },
  {
   "cell_type": "code",
   "execution_count": null,
   "id": "63ec8850-4380-43c4-96e4-cd10c9f28af5",
   "metadata": {},
   "outputs": [],
   "source": []
  },
  {
   "cell_type": "code",
   "execution_count": 4,
   "id": "21d61c93-e1a6-494b-8c65-d5d5282b0e07",
   "metadata": {},
   "outputs": [],
   "source": [
    "def p_print(board):\n",
    "    temp = board\n",
    "    temp = np.array(temp)\n",
    "    temp = temp.reshape(6,7)\n",
    "    pprint(temp)"
   ]
  },
  {
   "cell_type": "markdown",
   "id": "ed8b4f46-23e8-4ec4-ba7f-d8f0d4e537d8",
   "metadata": {},
   "source": [
    "#### When swapping the board, also swap the top and current player, done, info . They contain the state of the game."
   ]
  },
  {
   "cell_type": "code",
   "execution_count": 5,
   "id": "0067d30f-8f27-4789-a8a9-90f1794345af",
   "metadata": {},
   "outputs": [],
   "source": [
    "import gym\n",
    "\n",
    "class SimplifiedConnectX(gym.Env):\n",
    "#     metadata = {\"render_modes\":[\"None\"]} idk if I should include or no\n",
    "    def __init__(self,render_mode = None, board_size = (6,7)):\n",
    "        '''\n",
    "        board_size = tuple of 2 (rows,columns)\n",
    "        \n",
    "        '''\n",
    "        # number of rows\n",
    "        self.n_rows = board_size[0]\n",
    "        # number of columns\n",
    "        self.n_cols = board_size[1]\n",
    "        # board represented by a list\n",
    "        # player 1's tokens are 1, player -1 tokens are 2\n",
    "        self.board = [0] * (self.n_rows*self.n_cols)\n",
    "        # This stores the index of the top element of the board \n",
    "        # which is empty (so if n_row == self.top[i] then ith column\n",
    "        # is full)\n",
    "        self.top = [0]*self.n_cols\n",
    "        # player can be 1 or -1 \n",
    "        self.current_player = 1\n",
    "        # If this is 1 then that means the game is over\n",
    "        self.done = 0\n",
    "        # Additional info if required\n",
    "        self.info = {\n",
    "            # represents the number of times step is called\n",
    "            \"n_turns\":0,\n",
    "        }\n",
    "        \n",
    "    def reset(self):\n",
    "        self.board = [0] * (self.n_rows*self.n_cols)\n",
    "        self.top = [0]*self.n_cols\n",
    "        self.no_turns = 0\n",
    "        self.current_player = 1\n",
    "        self.done = 0\n",
    "        self.info[\"n_turns\"] = 0\n",
    "        \n",
    "        return self.board, self.info\n",
    "    \n",
    "    def step(self,action):\n",
    "        '''\n",
    "        action - integer which tells which column to put the coin in\n",
    "        '''\n",
    "        # check if it is possible to play the action\n",
    "        if self.top[action] >= self.n_rows:\n",
    "            raise Exception(f\"Column {action} is full !!\")\n",
    "        # should never trigger this\n",
    "        if self.done == 1:\n",
    "            raise Exception(\"The game is already over !\")\n",
    "        token = 0\n",
    "        if self.current_player == 1:\n",
    "            token = 1\n",
    "        else:\n",
    "            token = 2\n",
    "        index = (self.n_rows*self.n_cols) - self.top[action]*self.n_cols - (self.n_cols - action)\n",
    "        self.board[index] = token \n",
    "        self.top[action] += 1\n",
    "        self.current_player = -self.current_player\n",
    "        \n",
    "        reward = self.get_reward()\n",
    "        self.info[\"n_turns\"] += 1\n",
    "        \n",
    "        if reward != 0:\n",
    "            self.done = 1\n",
    "        \n",
    "        \n",
    "        return self.board, reward, self.done, self.info\n",
    "        \n",
    "    def get_reward(self):\n",
    "        '''\n",
    "        \n",
    "        The reward is 1 if player 1 wins -1 if player\n",
    "        -1 wins, -0.5 if a draw occurs, 0 if the game is not terminated.\n",
    "        \n",
    "        '''\n",
    "        # testing for player 1 \n",
    "        for i in range(self.n_cols):\n",
    "            try:\n",
    "                temp = self.is_win(self.n_cols,self.n_rows,4,self.board,i,1)\n",
    "                # player 1 wins\n",
    "                if temp == True:\n",
    "                    return 1\n",
    "            except:\n",
    "                pass\n",
    "        # testing for player 2 \n",
    "        for i in range(self.n_cols):\n",
    "            try:\n",
    "                temp = self.is_win(self.n_cols,self.n_rows,4,self.board,i,2)\n",
    "                # player 2 wins\n",
    "                if temp == True:\n",
    "                    return -1\n",
    "            except:\n",
    "                pass\n",
    "            \n",
    "        # check for a draw\n",
    "        draw_flag = 1\n",
    "        for i in self.top:\n",
    "            if i < self.n_rows:\n",
    "                draw_flag = 0\n",
    "                break\n",
    "\n",
    "        if draw_flag == 1:\n",
    "            return -0.5\n",
    "        \n",
    "        return 0\n",
    "    def get_possible_actions(self):\n",
    "        '''\n",
    "        returns an array with integers indicating that those\n",
    "        columns are empty\n",
    "        '''\n",
    "        output = []\n",
    "        for i in range(self.n_cols):\n",
    "            if self.top[i] < self.n_rows:\n",
    "                output.append(i)\n",
    "        return output\n",
    "        \n",
    "        \n",
    "    def is_win(self,columns,rows,inarow,board, column, mark, has_played=True):\n",
    "        '''\n",
    "        Gets us if a player has won or not\n",
    "\n",
    "        inputs:\n",
    "\n",
    "        rows - number of rows\n",
    "        columns - number of columns\n",
    "        inarow - How many in a row required to win.\n",
    "        mark - the current player (2 for p2 , 1 for p1)\n",
    "        column - the current player's move\n",
    "\n",
    "        '''\n",
    "        columns = columns\n",
    "        rows = rows\n",
    "        inarow = inarow - 1\n",
    "        row = (\n",
    "            min([r for r in range(rows) if board[column + (r * columns)] == mark])\n",
    "            if has_played\n",
    "            else max([r for r in range(rows) if board[column + (r * columns)] == EMPTY])\n",
    "        )\n",
    "        def count(offset_row, offset_column):\n",
    "            for i in range(1, inarow + 1):\n",
    "                r = row + offset_row * i\n",
    "                c = column + offset_column * i\n",
    "                if (\n",
    "                    r < 0\n",
    "                    or r >= rows\n",
    "                    or c < 0\n",
    "                    or c >= columns\n",
    "                    or board[c + (r * columns)] != mark\n",
    "                ):\n",
    "                    return i - 1\n",
    "            return inarow\n",
    "\n",
    "        return (\n",
    "            count(1, 0) >= inarow  # vertical.\n",
    "            or (count(0, 1) + count(0, -1)) >= inarow  # horizontal.\n",
    "            or (count(-1, -1) + count(1, 1)) >= inarow  # top left diagonal.\n",
    "            or (count(-1, 1) + count(1, -1)) >= inarow  # top right diagonal.\n",
    "        )\n",
    "    def create_copy(self):\n",
    "        '''\n",
    "        Takes the current environment and creates a copy of it\n",
    "        \n",
    "        '''\n",
    "        new_env = SimplifiedConnectX(board_size = (self.n_rows,self.n_cols))\n",
    "        new_env.board = self.board[:]\n",
    "        new_env.top = self.top[:]\n",
    "        new_env.current_player = self.current_player\n",
    "        new_env.done = self.done\n",
    "        new_env.info = self.info\n",
    "        \n",
    "        return new_env\n",
    "\n",
    "        "
   ]
  },
  {
   "cell_type": "code",
   "execution_count": null,
   "id": "d3e623e0-539c-4b71-8727-0105f6bfe14c",
   "metadata": {},
   "outputs": [],
   "source": []
  },
  {
   "cell_type": "code",
   "execution_count": 6,
   "id": "e6f59607-aa1f-4d43-b9b3-5bc07c5e4156",
   "metadata": {},
   "outputs": [],
   "source": [
    "env = SimplifiedConnectX()"
   ]
  },
  {
   "cell_type": "code",
   "execution_count": 7,
   "id": "766a97ad-b5df-407a-a593-a9c1894db134",
   "metadata": {},
   "outputs": [],
   "source": [
    "def play_random_game(env):\n",
    "    env.reset()\n",
    "    while not env.done:\n",
    "        possible_actions = env.get_possible_actions()\n",
    "        \n",
    "        action = random.choice(possible_actions)\n",
    "        obs,rew,d,info = env.step(action)\n",
    "#         p_print(obs)\n",
    "#         print(rew)\n",
    "#         print()\n",
    "        "
   ]
  },
  {
   "cell_type": "code",
   "execution_count": 12,
   "id": "b5e4e741-37bd-4f00-8ed8-331cfea51608",
   "metadata": {
    "scrolled": true,
    "tags": []
   },
   "outputs": [
    {
     "name": "stdout",
     "output_type": "stream",
     "text": [
      "total time 0.6182730197906494\n"
     ]
    }
   ],
   "source": [
    "# Try a parallel code for this as well (Just for fun)\n",
    "\n",
    "import time\n",
    "start = time.time()\n",
    "# 1000 games / sec for random\n",
    "for i in range(1000):\n",
    "    play_random_game(env)\n",
    "    \n",
    "end = time.time() - start\n",
    "print(\"total time\", end)"
   ]
  },
  {
   "cell_type": "code",
   "execution_count": 7,
   "id": "6389ea6b-eff2-447f-bb0d-b2ca609e76cc",
   "metadata": {},
   "outputs": [
    {
     "data": {
      "text/plain": [
       "[5, 3, 1, 1, 1, 0, 4]"
      ]
     },
     "execution_count": 7,
     "metadata": {},
     "output_type": "execute_result"
    }
   ],
   "source": [
    "env.top"
   ]
  },
  {
   "cell_type": "code",
   "execution_count": 8,
   "id": "09bb9cc9-ada0-4f3e-a5ab-29c5276e1421",
   "metadata": {},
   "outputs": [],
   "source": [
    "arr = [0]*42\n",
    "\n",
    "arr[7*6 - 2] = 1\n",
    "arr[7*5 - 2] = 1\n",
    "arr[7*4 - 2] = 1\n",
    "arr[7*3 - 2] = 1\n",
    "\n",
    "arr[7*6 - 1] = 2\n",
    "arr[7*5 - 1] = 2\n",
    "arr[7*4 - 1] = 2\n",
    "arr[7*3 - 1] = 1\n",
    "\n",
    "arr[(6 - 1)*(7-1) + 0] = 1"
   ]
  },
  {
   "cell_type": "code",
   "execution_count": 9,
   "id": "d728ecff-fae2-4745-8aa6-30b8710f860c",
   "metadata": {
    "scrolled": true,
    "tags": []
   },
   "outputs": [
    {
     "name": "stdout",
     "output_type": "stream",
     "text": [
      "array([[0, 0, 0, 0, 0, 0, 0],\n",
      "       [0, 0, 0, 0, 0, 0, 0],\n",
      "       [0, 0, 0, 0, 0, 1, 1],\n",
      "       [0, 0, 0, 0, 0, 1, 2],\n",
      "       [0, 0, 1, 0, 0, 1, 2],\n",
      "       [0, 0, 0, 0, 0, 1, 2]])\n"
     ]
    }
   ],
   "source": [
    "p_print(arr)"
   ]
  },
  {
   "cell_type": "code",
   "execution_count": 10,
   "id": "5ccfca6e-5f14-43e0-9527-a33be60588d7",
   "metadata": {},
   "outputs": [
    {
     "data": {
      "text/plain": [
       "False"
      ]
     },
     "execution_count": 10,
     "metadata": {},
     "output_type": "execute_result"
    }
   ],
   "source": [
    "env.is_win(7,6,4,arr,6,2)"
   ]
  },
  {
   "cell_type": "code",
   "execution_count": 11,
   "id": "a1dd9b0f-6f45-44e1-8435-75461e9ebeb9",
   "metadata": {},
   "outputs": [],
   "source": [
    "arr = [0] *42\n",
    "top = [0]*7\n",
    "for i in range(6):\n",
    "    for j in range(7):\n",
    "        arr[(42) - top[j] * 7 - (7 - j)] = (i)*7 + (j+1)\n",
    "        top[j] += 1\n"
   ]
  },
  {
   "cell_type": "code",
   "execution_count": 12,
   "id": "c4e2347c-9774-4c07-9f97-ba43ca07038d",
   "metadata": {},
   "outputs": [
    {
     "name": "stdout",
     "output_type": "stream",
     "text": [
      "array([[36, 37, 38, 39, 40, 41, 42],\n",
      "       [29, 30, 31, 32, 33, 34, 35],\n",
      "       [22, 23, 24, 25, 26, 27, 28],\n",
      "       [15, 16, 17, 18, 19, 20, 21],\n",
      "       [ 8,  9, 10, 11, 12, 13, 14],\n",
      "       [ 1,  2,  3,  4,  5,  6,  7]])\n"
     ]
    }
   ],
   "source": [
    "p_print(arr)"
   ]
  },
  {
   "cell_type": "code",
   "execution_count": 13,
   "id": "848abf46-1a3f-44ba-8b71-02b00a3ff63a",
   "metadata": {},
   "outputs": [
    {
     "data": {
      "text/plain": [
       "[6, 6, 6, 6, 6, 6, 6]"
      ]
     },
     "execution_count": 13,
     "metadata": {},
     "output_type": "execute_result"
    }
   ],
   "source": [
    "top"
   ]
  },
  {
   "cell_type": "code",
   "execution_count": 14,
   "id": "4df09bfc-31b2-49ea-8485-b2a72c7741b8",
   "metadata": {},
   "outputs": [
    {
     "data": {
      "text/plain": [
       "9"
      ]
     },
     "execution_count": 14,
     "metadata": {},
     "output_type": "execute_result"
    }
   ],
   "source": [
    "arr[29]"
   ]
  },
  {
   "cell_type": "code",
   "execution_count": 113,
   "id": "3519abce-f67a-4bba-9ea3-45c3a70fa3d0",
   "metadata": {},
   "outputs": [
    {
     "data": {
      "text/plain": [
       "1"
      ]
     },
     "execution_count": 113,
     "metadata": {},
     "output_type": "execute_result"
    }
   ],
   "source": [
    "arr[42 - 7]"
   ]
  },
  {
   "cell_type": "code",
   "execution_count": 61,
   "id": "857b42f3-60c7-4a4f-a274-9c706c2bcb2b",
   "metadata": {},
   "outputs": [],
   "source": [
    "arr = [0, 0, 0, 0, 0, 0, 0, 0, 0, 0, 0, 0, 0, 0, 0, 0, 0, 0, 0, 0, 0, 0, 0, 0, 0, 0, 1, 0, 2, 2,\n",
    "0, 0, 0, 1, 2, 2, 1, 1, 0, 0, 1, 2]\n",
    "arr2 = [0, 0, 0, 0, 0, 0, 0, 0, 0, 0, 0, 0, 0, 0, 0, 0, 0, 0, 0, 1, 0, 0, 0, 0, 0, 0, 1, 0, 2, 2,\n",
    "0, 0, 0, 1, 2, 2, 1, 1, 0, 0, 1, 2]"
   ]
  },
  {
   "cell_type": "code",
   "execution_count": 62,
   "id": "f60a15ea-750b-4031-b2bf-7e1202357b8f",
   "metadata": {},
   "outputs": [
    {
     "name": "stdout",
     "output_type": "stream",
     "text": [
      "array([[0, 0, 0, 0, 0, 0, 0],\n",
      "       [0, 0, 0, 0, 0, 0, 0],\n",
      "       [0, 0, 0, 0, 0, 0, 0],\n",
      "       [0, 0, 0, 0, 0, 1, 0],\n",
      "       [2, 2, 0, 0, 0, 1, 2],\n",
      "       [2, 1, 1, 0, 0, 1, 2]])\n",
      "array([[0, 0, 0, 0, 0, 0, 0],\n",
      "       [0, 0, 0, 0, 0, 0, 0],\n",
      "       [0, 0, 0, 0, 0, 1, 0],\n",
      "       [0, 0, 0, 0, 0, 1, 0],\n",
      "       [2, 2, 0, 0, 0, 1, 2],\n",
      "       [2, 1, 1, 0, 0, 1, 2]])\n"
     ]
    }
   ],
   "source": [
    "p_print(arr)\n",
    "p_print(arr2)"
   ]
  },
  {
   "cell_type": "markdown",
   "id": "8455b8f1-5b28-4e16-ac80-0792f9fd5185",
   "metadata": {},
   "source": [
    "### Lets make a few puzzles to test how well the NN and the algorithm is doing"
   ]
  },
  {
   "cell_type": "markdown",
   "id": "85a3413e-10de-4227-98c7-0989d330e519",
   "metadata": {},
   "source": [
    "##### Win in one puzzle"
   ]
  },
  {
   "cell_type": "code",
   "execution_count": null,
   "id": "beb58729-ad70-43d6-b2f6-61d75d4d9358",
   "metadata": {},
   "outputs": [],
   "source": []
  },
  {
   "cell_type": "markdown",
   "id": "f0167307-8491-4a1b-b3a4-265018b6e07d",
   "metadata": {},
   "source": [
    "##### Win in two puzzles"
   ]
  },
  {
   "cell_type": "code",
   "execution_count": null,
   "id": "77da8e46-4b8e-41e2-8cab-ddeab82f1563",
   "metadata": {},
   "outputs": [],
   "source": []
  },
  {
   "cell_type": "code",
   "execution_count": null,
   "id": "8289b9bc-4879-4c07-8d4f-cf92d0fedb68",
   "metadata": {},
   "outputs": [],
   "source": []
  },
  {
   "cell_type": "code",
   "execution_count": null,
   "id": "250ffc3a-d023-4228-9695-97cf2f2e3305",
   "metadata": {},
   "outputs": [],
   "source": []
  },
  {
   "cell_type": "code",
   "execution_count": null,
   "id": "b7c882e8-3932-4ee4-b31a-692b0f1ee6e6",
   "metadata": {},
   "outputs": [],
   "source": []
  }
 ],
 "metadata": {
  "kernelspec": {
   "display_name": "Python 3 (ipykernel)",
   "language": "python",
   "name": "python3"
  },
  "language_info": {
   "codemirror_mode": {
    "name": "ipython",
    "version": 3
   },
   "file_extension": ".py",
   "mimetype": "text/x-python",
   "name": "python",
   "nbconvert_exporter": "python",
   "pygments_lexer": "ipython3",
   "version": "3.9.16"
  }
 },
 "nbformat": 4,
 "nbformat_minor": 5
}
