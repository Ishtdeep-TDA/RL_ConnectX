{
 "cells": [
  {
   "cell_type": "code",
   "execution_count": 1,
   "id": "025aa771-37f8-4eed-8071-7775802bac2e",
   "metadata": {},
   "outputs": [],
   "source": [
    "import numpy as np\n",
    "import math\n",
    "from simplified_connectx import *\n",
    "%load_ext autoreload\n",
    "%autoreload 2"
   ]
  },
  {
   "attachments": {},
   "cell_type": "markdown",
   "id": "aebdf7a9-eca5-4879-a4f6-c17e49aa8fe8",
   "metadata": {},
   "source": [
    "##### In MCTS we store 1 tree"
   ]
  },
  {
   "attachments": {},
   "cell_type": "markdown",
   "id": "4f63f9bd-f14d-4345-9efe-12d3da55fb46",
   "metadata": {
    "tags": []
   },
   "source": [
    "##### MCTS Variant, instead of using UCB_score to be infinite and forcing the \n",
    "##### Algorithm to explore the whole space, we can \"guide\" it with NN predictions\n",
    "##### example p*(math.sqrt(self.total_counts))/(self.SA_counts[(s,action)])\n",
    "##### Where p is the probability of picking that action according to the NN."
   ]
  },
  {
   "cell_type": "code",
   "execution_count": 2,
   "id": "cf77c600-e9f9-43af-8104-ac72d3d89919",
   "metadata": {},
   "outputs": [],
   "source": [
    "import logging\n",
    "\n",
    "import coloredlogs\n",
    "\n",
    "from Coach import Coach\n",
    "from Game import Game\n",
    "%autoreload 2"
   ]
  },
  {
   "cell_type": "code",
   "execution_count": 85,
   "id": "d4b2d956-d655-4abb-bc84-ef1eab399719",
   "metadata": {},
   "outputs": [],
   "source": [
    "# arguments\n",
    "args = {\n",
    "    \"load_model\": False, # Whether to use a pretrained network \n",
    "    \"load_folder_file\":None, # \n",
    "    \"checkpoint\":\"./temp/\", # stores checkpoints here\n",
    "    \"num_mcts_sims\":10000,\n",
    "    \"c\":0.1,\n",
    "    \"num_iters\":50, # number of times the NN is updated\n",
    "    \"maxlenOfQueue\": 200000,\n",
    "    \"numItersForTrainExamplesHistory\":20,\n",
    "    \"numEps\":20\n",
    "}\n"
   ]
  },
  {
   "cell_type": "code",
   "execution_count": 86,
   "id": "42c84cdf-1eef-4bf8-99ba-4ac0002dcf94",
   "metadata": {
    "scrolled": true,
    "tags": []
   },
   "outputs": [
    {
     "name": "stdout",
     "output_type": "stream",
     "text": [
      "Currently on move  1\n",
      "total time taken to run 10000 iterations is 3.360729217529297\n",
      "The probability distribution is  [0, 0, 0, 1, 0, 0, 0]\n",
      "array([[0, 0, 0, 0, 0, 0, 0],\n",
      "       [0, 0, 0, 0, 0, 0, 0],\n",
      "       [0, 0, 0, 0, 0, 0, 0],\n",
      "       [0, 0, 0, 0, 0, 0, 0],\n",
      "       [0, 0, 0, 0, 0, 0, 0],\n",
      "       [0, 0, 0, 1, 0, 0, 0]])\n",
      "result  0\n",
      "Currently on move  2\n"
     ]
    }
   ],
   "source": [
    "# Main cell to run the algorithm\n",
    "g = Game()\n",
    "c = Coach(g, args)\n",
    "c.executeEpisode()\n",
    "print(c)"
   ]
  },
  {
   "cell_type": "code",
   "execution_count": 3,
   "id": "e1520227-a7fd-410f-a250-da3bc1f762a5",
   "metadata": {},
   "outputs": [],
   "source": [
    "from my_mcts import my_mcts\n",
    "from Game import Game\n",
    "from Coach import p_print\n",
    "import time"
   ]
  },
  {
   "cell_type": "code",
   "execution_count": 14,
   "id": "78028432",
   "metadata": {},
   "outputs": [
    {
     "name": "stdout",
     "output_type": "stream",
     "text": [
      "array([[0, 0, 0, 0, 0, 0, 0],\n",
      "       [0, 0, 0, 0, 0, 0, 0],\n",
      "       [0, 0, 0, 0, 0, 0, 0],\n",
      "       [0, 0, 0, 0, 0, 0, 0],\n",
      "       [0, 0, 2, 0, 0, 0, 0],\n",
      "       [0, 2, 1, 1, 1, 0, 0]])\n",
      "total time taken to run 1000 iterations is 0.8499479293823242\n",
      "The probability distribution is  [0, 0, 0, 0, 0, 1, 0]\n"
     ]
    },
    {
     "data": {
      "text/plain": [
       "[0, 0, 0, 0, 0, 1, 0]"
      ]
     },
     "execution_count": 14,
     "metadata": {},
     "output_type": "execute_result"
    }
   ],
   "source": [
    "# Lets make some puzzles to test the algorithm\n",
    "# Puzzle no 1 - player 2 has to stop a mate in one\n",
    "temp_args = {\n",
    "    \"load_model\": False, # Whether to use a pretrained network \n",
    "    \"load_folder_file\":None, # \n",
    "    \"checkpoint\":\"./temp/\", # stores checkpoints here\n",
    "    \"num_mcts_sims\":1000,\n",
    "    \"c\":0.1,\n",
    "    \"num_iters\":50, # number of times the NN is updated\n",
    "    \"maxlenOfQueue\": 200000,\n",
    "    \"numItersForTrainExamplesHistory\":20,\n",
    "    \"numEps\":20\n",
    "}\n",
    "\n",
    "temp_game = Game()\n",
    "\n",
    "n_s,r,d,i = temp_game.getNextState(2)\n",
    "n_s,r,d,i = temp_game.getNextState(1)\n",
    "n_s,r,d,i = temp_game.getNextState(3)\n",
    "n_s,r,d,i = temp_game.getNextState(2)\n",
    "n_s,r,d,i = temp_game.getNextState(4)\n",
    "\n",
    "p_print(temp_game.env.board)\n",
    "\n",
    "temp_mcts = my_mcts(temp_game,temp_args)\n",
    "temp_mcts.getActionProb(temp_game,2)\n"
   ]
  },
  {
   "cell_type": "code",
   "execution_count": 21,
   "id": "1f900270",
   "metadata": {},
   "outputs": [
    {
     "name": "stdout",
     "output_type": "stream",
     "text": [
      "total_time 0.0010619163513183594\n",
      "array([[0, 0, 0, 0, 0, 0, 0],\n",
      "       [0, 0, 0, 0, 0, 0, 0],\n",
      "       [0, 0, 0, 0, 0, 0, 0],\n",
      "       [0, 0, 0, 0, 0, 0, 0],\n",
      "       [0, 1, 0, 0, 0, 0, 0],\n",
      "       [1, 1, 2, 2, 2, 0, 0]])\n",
      "total time taken to run 1000 iterations is 0.24378585815429688\n",
      "The probability distribution is  [0, 1, 0, 0, 0, 0, 0]\n"
     ]
    },
    {
     "data": {
      "text/plain": [
       "[0, 1, 0, 0, 0, 0, 0]"
      ]
     },
     "execution_count": 21,
     "metadata": {},
     "output_type": "execute_result"
    }
   ],
   "source": [
    "# Lets make some puzzles to test the algorithm\n",
    "# Puzzle no 2 - player 1 has to stop a mate in one\n",
    "temp_args = {\n",
    "    \"load_model\": False, # Whether to use a pretrained network \n",
    "    \"load_folder_file\":None, # \n",
    "    \"checkpoint\":\"./temp/\", # stores checkpoints here\n",
    "    \"num_mcts_sims\":1000,\n",
    "    \"c\":0.1,\n",
    "    \"num_iters\":50, # number of times the NN is updated\n",
    "    \"maxlenOfQueue\": 200000,\n",
    "    \"numItersForTrainExamplesHistory\":20,\n",
    "    \"numEps\":20\n",
    "}\n",
    "\n",
    "temp_game = Game()\n",
    "\n",
    "start = time.time()\n",
    "n_s,r,d,i = temp_game.getNextState(1)\n",
    "n_s,r,d,i = temp_game.getNextState(2)\n",
    "n_s,r,d,i = temp_game.getNextState(1)\n",
    "n_s,r,d,i = temp_game.getNextState(3)\n",
    "n_s,r,d,i = temp_game.getNextState(0)\n",
    "n_s,r,d,i = temp_game.getNextState(4)\n",
    "print(f\"total_time {time.time() - start}\")\n",
    "p_print(temp_game.env.board)\n",
    "\n",
    "temp_mcts = my_mcts(temp_game,temp_args)\n",
    "temp_mcts.getActionProb(temp_game,1)\n"
   ]
  },
  {
   "cell_type": "code",
   "execution_count": 11,
   "id": "5a1a9310",
   "metadata": {},
   "outputs": [
    {
     "name": "stdout",
     "output_type": "stream",
     "text": [
      "total_time 0.0\n",
      "array([[0, 0, 0, 0, 0, 0, 0],\n",
      "       [0, 0, 0, 0, 0, 0, 0],\n",
      "       [0, 0, 0, 0, 0, 0, 0],\n",
      "       [0, 0, 0, 0, 0, 0, 0],\n",
      "       [1, 1, 0, 0, 0, 0, 0],\n",
      "       [1, 1, 2, 2, 2, 0, 0]])\n",
      "total time taken to run 3000 iterations is 0.23569989204406738\n",
      "The probability distribution is  [0, 0, 0, 0, 0, 1, 0]\n"
     ]
    },
    {
     "data": {
      "text/plain": [
       "[0, 0, 0, 0, 0, 1, 0]"
      ]
     },
     "execution_count": 11,
     "metadata": {},
     "output_type": "execute_result"
    }
   ],
   "source": [
    "# Lets make some puzzles to test the algorithm\n",
    "# Puzzle no 3 - player 2 has to find a way to do a mate in one\n",
    "temp_args = {\n",
    "    \"load_model\": False, # Whether to use a pretrained network \n",
    "    \"load_folder_file\":None, # \n",
    "    \"checkpoint\":\"./temp/\", # stores checkpoints here\n",
    "    \"num_mcts_sims\":3000,\n",
    "    \"c\":0.1,\n",
    "    \"num_iters\":50, # number of times the NN is updated\n",
    "    \"maxlenOfQueue\": 200000,\n",
    "    \"numItersForTrainExamplesHistory\":20,\n",
    "    \"numEps\":20\n",
    "}\n",
    "\n",
    "temp_game = Game()\n",
    "\n",
    "start = time.time()\n",
    "n_s,r,d,i = temp_game.getNextState(1)\n",
    "n_s,r,d,i = temp_game.getNextState(2)\n",
    "n_s,r,d,i = temp_game.getNextState(1)\n",
    "n_s,r,d,i = temp_game.getNextState(3)\n",
    "n_s,r,d,i = temp_game.getNextState(0)\n",
    "n_s,r,d,i = temp_game.getNextState(4)\n",
    "n_s,r,d,i = temp_game.getNextState(0)\n",
    "print(f\"total_time {time.time() - start}\")\n",
    "p_print(temp_game.env.board)\n",
    "\n",
    "temp_mcts = my_mcts(temp_game,temp_args)\n",
    "temp_mcts.getActionProb(temp_game,2)\n"
   ]
  },
  {
   "cell_type": "code",
   "execution_count": 64,
   "id": "a19ed025",
   "metadata": {},
   "outputs": [
    {
     "name": "stdout",
     "output_type": "stream",
     "text": [
      "array([[0, 0, 0, 0, 0, 0, 0],\n",
      "       [0, 0, 0, 0, 0, 0, 0],\n",
      "       [0, 0, 0, 0, 0, 0, 0],\n",
      "       [0, 0, 0, 0, 0, 0, 0],\n",
      "       [0, 0, 2, 0, 0, 0, 0],\n",
      "       [2, 2, 1, 1, 1, 0, 0]])\n",
      "total time taken to run 1000 iterations is 0.07547116279602051\n",
      "The probability distribution is  [0, 0, 0, 0, 0, 1, 0]\n"
     ]
    },
    {
     "data": {
      "text/plain": [
       "[0, 0, 0, 0, 0, 1, 0]"
      ]
     },
     "execution_count": 64,
     "metadata": {},
     "output_type": "execute_result"
    }
   ],
   "source": [
    "# Lets make some puzzles to test the algorithm\n",
    "# Puzzle no 1 - Player one has to find a way to do a mate in one\n",
    "temp_args = {\n",
    "    \"load_model\": False, # Whether to use a pretrained network \n",
    "    \"load_folder_file\":None, # \n",
    "    \"checkpoint\":\"./temp/\", # stores checkpoints here\n",
    "    \"num_mcts_sims\":1000,\n",
    "    \"c\":0.1,\n",
    "    \"num_iters\":50, # number of times the NN is updated\n",
    "    \"maxlenOfQueue\": 200000,\n",
    "    \"numItersForTrainExamplesHistory\":20,\n",
    "    \"numEps\":20\n",
    "}\n",
    "\n",
    "temp_game = Game()\n",
    "\n",
    "n_s,r,d,i = temp_game.getNextState(2)\n",
    "n_s,r,d,i = temp_game.getNextState(1)\n",
    "n_s,r,d,i = temp_game.getNextState(3)\n",
    "n_s,r,d,i = temp_game.getNextState(2)\n",
    "n_s,r,d,i = temp_game.getNextState(4)\n",
    "n_s,r,d,i = temp_game.getNextState(0)\n",
    "p_print(temp_game.env.board)\n",
    "\n",
    "temp_mcts = my_mcts(temp_game,temp_args)\n",
    "temp_mcts.getActionProb(temp_game,1)\n"
   ]
  },
  {
   "cell_type": "code",
   "execution_count": 65,
   "id": "49cac525",
   "metadata": {},
   "outputs": [
    {
     "name": "stdout",
     "output_type": "stream",
     "text": [
      "array([[0, 0, 0, 0, 0, 0, 0],\n",
      "       [0, 0, 0, 0, 0, 0, 0],\n",
      "       [0, 0, 0, 0, 0, 0, 0],\n",
      "       [0, 0, 0, 0, 0, 0, 0],\n",
      "       [0, 0, 2, 0, 0, 0, 0],\n",
      "       [2, 2, 1, 1, 1, 0, 0]])\n",
      "1000\n"
     ]
    }
   ],
   "source": [
    "# Sanity check for the algorithm\n",
    "from collections import deque,defaultdict\n",
    "def convert_string_to_board(string):\n",
    "    return [int(i) for i in string]\n",
    "\n",
    "def print_state_graph(root_game):\n",
    "    '''\n",
    "    Does a bfs from the root state\n",
    "    '''\n",
    "    game = root_game.create_copy()\n",
    "    q = deque()\n",
    "    q.append(game)\n",
    "    tree = defaultdict(deque)\n",
    "    level = 0\n",
    "    while len(q):\n",
    "        cur = q.popleft()\n",
    "        if len(q) == 0:\n",
    "            level += 1\n",
    "        cur_str = cur.stringRepresentation()\n",
    "        for i in range(cur.get_possible_actions()):\n",
    "            if (cur_str,i) in temp_mcts.SA_counts:\n",
    "                game_copy = game.create_copy()\n",
    "                a,b,c,d = game_copy.getNextState(i)\n",
    "                \n",
    "p_print(temp_game.env.board)\n",
    "base_state = temp_mcts.S_counts[temp_game.stringRepresentation()]\n",
    "print(base_state)"
   ]
  },
  {
   "cell_type": "code",
   "execution_count": null,
   "id": "92475950",
   "metadata": {},
   "outputs": [],
   "source": []
  },
  {
   "cell_type": "code",
   "execution_count": null,
   "id": "dca4826e",
   "metadata": {},
   "outputs": [],
   "source": []
  },
  {
   "cell_type": "code",
   "execution_count": null,
   "id": "a6a89aa8",
   "metadata": {},
   "outputs": [],
   "source": []
  }
 ],
 "metadata": {
  "kernelspec": {
   "display_name": "Python 3 (ipykernel)",
   "language": "python",
   "name": "python3"
  },
  "language_info": {
   "codemirror_mode": {
    "name": "ipython",
    "version": 3
   },
   "file_extension": ".py",
   "mimetype": "text/x-python",
   "name": "python",
   "nbconvert_exporter": "python",
   "pygments_lexer": "ipython3",
   "version": "3.9.16"
  }
 },
 "nbformat": 4,
 "nbformat_minor": 5
}
