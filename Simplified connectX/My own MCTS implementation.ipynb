{
 "cells": [
  {
   "cell_type": "code",
   "execution_count": 7,
   "id": "025aa771-37f8-4eed-8071-7775802bac2e",
   "metadata": {},
   "outputs": [],
   "source": [
    "import numpy as np\n",
    "import math\n",
    "from simplified_connectx import *\n",
    "%load_ext autoreload\n",
    "%autoreload 2"
   ]
  },
  {
   "cell_type": "markdown",
   "id": "aebdf7a9-eca5-4879-a4f6-c17e49aa8fe8",
   "metadata": {},
   "source": [
    "##### In MCTS we store 1 tree"
   ]
  },
  {
   "cell_type": "markdown",
   "id": "4f63f9bd-f14d-4345-9efe-12d3da55fb46",
   "metadata": {
    "tags": []
   },
   "source": [
    "##### MCTS Variant, instead of using UCB_score to be infinite and forcing the \n",
    "##### Algorithm to explore the whole space, we can \"guide\" it with NN predictions\n",
    "##### example p*(math.sqrt(self.total_counts))/(self.SA_counts[(s,action)])\n",
    "##### Where p is the probability of picking that action according to the NN."
   ]
  },
  {
   "cell_type": "code",
   "execution_count": 8,
   "id": "cf77c600-e9f9-43af-8104-ac72d3d89919",
   "metadata": {},
   "outputs": [],
   "source": [
    "import logging\n",
    "\n",
    "import coloredlogs\n",
    "\n",
    "from Coach import Coach\n",
    "from Game import Game\n",
    "%autoreload 2"
   ]
  },
  {
   "cell_type": "code",
   "execution_count": 13,
   "id": "d4b2d956-d655-4abb-bc84-ef1eab399719",
   "metadata": {},
   "outputs": [],
   "source": [
    "# arguments\n",
    "args = {\n",
    "    \"load_model\": False, # Whether to use a pretrained network \n",
    "    \"load_folder_file\":None, # \n",
    "    \"checkpoint\":\"./temp/\", # stores checkpoints here\n",
    "    \"num_mcts_sims\":10000,\n",
    "    \"c\":0.1,\n",
    "    \"num_iters\":50, # number of times the NN is updated\n",
    "    \"maxlenOfQueue\": 200000,\n",
    "    \"numItersForTrainExamplesHistory\":20,\n",
    "    \"numEps\":20\n",
    "}\n"
   ]
  },
  {
   "cell_type": "code",
   "execution_count": 14,
   "id": "42c84cdf-1eef-4bf8-99ba-4ac0002dcf94",
   "metadata": {
    "scrolled": true,
    "tags": []
   },
   "outputs": [
    {
     "name": "stdout",
     "output_type": "stream",
     "text": [
      "Currently on move  1\n",
      "total time taken to run 10000 iterations is 15.004494667053223\n",
      "The probability distribution is  [0, 1, 0, 0, 0, 0, 0]\n",
      "array([[0, 0, 0, 0, 0, 0, 0],\n",
      "       [0, 0, 0, 0, 0, 0, 0],\n",
      "       [0, 0, 0, 0, 0, 0, 0],\n",
      "       [0, 0, 0, 0, 0, 0, 0],\n",
      "       [0, 0, 0, 0, 0, 0, 0],\n",
      "       [0, 1, 0, 0, 0, 0, 0]])\n",
      "result  0\n",
      "Currently on move  2\n",
      "total time taken to run 10000 iterations is 14.67066740989685\n",
      "The probability distribution is  [1, 0, 0, 0, 0, 0, 0]\n",
      "array([[0, 0, 0, 0, 0, 0, 0],\n",
      "       [0, 0, 0, 0, 0, 0, 0],\n",
      "       [0, 0, 0, 0, 0, 0, 0],\n",
      "       [0, 0, 0, 0, 0, 0, 0],\n",
      "       [0, 0, 0, 0, 0, 0, 0],\n",
      "       [2, 1, 0, 0, 0, 0, 0]])\n",
      "result  0\n",
      "Currently on move  3\n",
      "total time taken to run 10000 iterations is 14.84201955795288\n",
      "The probability distribution is  [0, 0, 1, 0, 0, 0, 0]\n",
      "array([[0, 0, 0, 0, 0, 0, 0],\n",
      "       [0, 0, 0, 0, 0, 0, 0],\n",
      "       [0, 0, 0, 0, 0, 0, 0],\n",
      "       [0, 0, 0, 0, 0, 0, 0],\n",
      "       [0, 0, 0, 0, 0, 0, 0],\n",
      "       [2, 1, 1, 0, 0, 0, 0]])\n",
      "result  0\n",
      "Currently on move  4\n",
      "total time taken to run 10000 iterations is 12.880355834960938\n",
      "The probability distribution is  [0, 1, 0, 0, 0, 0, 0]\n",
      "array([[0, 0, 0, 0, 0, 0, 0],\n",
      "       [0, 0, 0, 0, 0, 0, 0],\n",
      "       [0, 0, 0, 0, 0, 0, 0],\n",
      "       [0, 0, 0, 0, 0, 0, 0],\n",
      "       [0, 2, 0, 0, 0, 0, 0],\n",
      "       [2, 1, 1, 0, 0, 0, 0]])\n",
      "result  0\n",
      "Currently on move  5\n",
      "total time taken to run 10000 iterations is 13.782493829727173\n",
      "The probability distribution is  [0, 0, 1, 0, 0, 0, 0]\n",
      "array([[0, 0, 0, 0, 0, 0, 0],\n",
      "       [0, 0, 0, 0, 0, 0, 0],\n",
      "       [0, 0, 0, 0, 0, 0, 0],\n",
      "       [0, 0, 0, 0, 0, 0, 0],\n",
      "       [0, 2, 1, 0, 0, 0, 0],\n",
      "       [2, 1, 1, 0, 0, 0, 0]])\n",
      "result  0\n",
      "Currently on move  6\n",
      "total time taken to run 10000 iterations is 12.238495588302612\n",
      "The probability distribution is  [0, 0, 1, 0, 0, 0, 0]\n",
      "array([[0, 0, 0, 0, 0, 0, 0],\n",
      "       [0, 0, 0, 0, 0, 0, 0],\n",
      "       [0, 0, 0, 0, 0, 0, 0],\n",
      "       [0, 0, 2, 0, 0, 0, 0],\n",
      "       [0, 2, 1, 0, 0, 0, 0],\n",
      "       [2, 1, 1, 0, 0, 0, 0]])\n",
      "result  0\n",
      "Currently on move  7\n",
      "total time taken to run 10000 iterations is 14.325635433197021\n",
      "The probability distribution is  [0, 1, 0, 0, 0, 0, 0]\n",
      "array([[0, 0, 0, 0, 0, 0, 0],\n",
      "       [0, 0, 0, 0, 0, 0, 0],\n",
      "       [0, 0, 0, 0, 0, 0, 0],\n",
      "       [0, 1, 2, 0, 0, 0, 0],\n",
      "       [0, 2, 1, 0, 0, 0, 0],\n",
      "       [2, 1, 1, 0, 0, 0, 0]])\n",
      "result  0\n",
      "Currently on move  8\n",
      "total time taken to run 10000 iterations is 13.047433137893677\n",
      "The probability distribution is  [1, 0, 0, 0, 0, 0, 0]\n",
      "array([[0, 0, 0, 0, 0, 0, 0],\n",
      "       [0, 0, 0, 0, 0, 0, 0],\n",
      "       [0, 0, 0, 0, 0, 0, 0],\n",
      "       [0, 1, 2, 0, 0, 0, 0],\n",
      "       [2, 2, 1, 0, 0, 0, 0],\n",
      "       [2, 1, 1, 0, 0, 0, 0]])\n",
      "result  0\n",
      "Currently on move  9\n",
      "total time taken to run 10000 iterations is 12.36884593963623\n",
      "The probability distribution is  [1, 0, 0, 0, 0, 0, 0]\n",
      "array([[0, 0, 0, 0, 0, 0, 0],\n",
      "       [0, 0, 0, 0, 0, 0, 0],\n",
      "       [0, 0, 0, 0, 0, 0, 0],\n",
      "       [1, 1, 2, 0, 0, 0, 0],\n",
      "       [2, 2, 1, 0, 0, 0, 0],\n",
      "       [2, 1, 1, 0, 0, 0, 0]])\n",
      "result  0\n",
      "Currently on move  10\n",
      "total time taken to run 10000 iterations is 13.798163652420044\n",
      "The probability distribution is  [0, 0, 1, 0, 0, 0, 0]\n",
      "array([[0, 0, 0, 0, 0, 0, 0],\n",
      "       [0, 0, 0, 0, 0, 0, 0],\n",
      "       [0, 0, 2, 0, 0, 0, 0],\n",
      "       [1, 1, 2, 0, 0, 0, 0],\n",
      "       [2, 2, 1, 0, 0, 0, 0],\n",
      "       [2, 1, 1, 0, 0, 0, 0]])\n",
      "result  0\n",
      "Currently on move  11\n",
      "total time taken to run 10000 iterations is 12.191826105117798\n",
      "The probability distribution is  [0, 0, 0, 1, 0, 0, 0]\n",
      "array([[0, 0, 0, 0, 0, 0, 0],\n",
      "       [0, 0, 0, 0, 0, 0, 0],\n",
      "       [0, 0, 2, 0, 0, 0, 0],\n",
      "       [1, 1, 2, 0, 0, 0, 0],\n",
      "       [2, 2, 1, 0, 0, 0, 0],\n",
      "       [2, 1, 1, 1, 0, 0, 0]])\n",
      "result  0\n",
      "Currently on move  12\n",
      "total time taken to run 10000 iterations is 10.251678466796875\n",
      "The probability distribution is  [0, 0, 0, 0, 1, 0, 0]\n",
      "array([[0, 0, 0, 0, 0, 0, 0],\n",
      "       [0, 0, 0, 0, 0, 0, 0],\n",
      "       [0, 0, 2, 0, 0, 0, 0],\n",
      "       [1, 1, 2, 0, 0, 0, 0],\n",
      "       [2, 2, 1, 0, 0, 0, 0],\n",
      "       [2, 1, 1, 1, 2, 0, 0]])\n",
      "result  0\n",
      "Currently on move  13\n",
      "total time taken to run 10000 iterations is 10.55159306526184\n",
      "The probability distribution is  [1, 0, 0, 0, 0, 0, 0]\n",
      "array([[0, 0, 0, 0, 0, 0, 0],\n",
      "       [0, 0, 0, 0, 0, 0, 0],\n",
      "       [1, 0, 2, 0, 0, 0, 0],\n",
      "       [1, 1, 2, 0, 0, 0, 0],\n",
      "       [2, 2, 1, 0, 0, 0, 0],\n",
      "       [2, 1, 1, 1, 2, 0, 0]])\n",
      "result  1\n",
      "Result :  1 Optimizing player :  1\n",
      "<Coach.Coach object at 0x000001F92DE01070>\n"
     ]
    }
   ],
   "source": [
    "# Main cell to run the algorithm\n",
    "g = Game()\n",
    "c = Coach(g, args)\n",
    "c.executeEpisode()\n",
    "print(c)"
   ]
  },
  {
   "cell_type": "code",
   "execution_count": 55,
   "id": "e1520227-a7fd-410f-a250-da3bc1f762a5",
   "metadata": {},
   "outputs": [],
   "source": [
    "from my_mcts import my_mcts\n",
    "from Game import Game\n",
    "from Coach import p_print\n",
    "import time"
   ]
  },
  {
   "cell_type": "code",
   "execution_count": 62,
   "id": "78028432",
   "metadata": {},
   "outputs": [
    {
     "name": "stdout",
     "output_type": "stream",
     "text": [
      "array([[0, 0, 0, 0, 0, 0, 0],\n",
      "       [0, 0, 0, 0, 0, 0, 0],\n",
      "       [0, 0, 0, 0, 0, 0, 0],\n",
      "       [0, 0, 0, 0, 0, 0, 0],\n",
      "       [0, 0, 2, 0, 0, 0, 0],\n",
      "       [0, 2, 1, 1, 1, 0, 0]])\n",
      "total time taken to run 1000 iterations is 0.9335808753967285\n",
      "The probability distribution is  [0, 1, 0, 0, 0, 0, 0]\n"
     ]
    },
    {
     "data": {
      "text/plain": [
       "[0, 1, 0, 0, 0, 0, 0]"
      ]
     },
     "execution_count": 62,
     "metadata": {},
     "output_type": "execute_result"
    }
   ],
   "source": [
    "# Lets make some puzzles to test the algorithm\n",
    "# Puzzle no 1 - player 2 has to stop a mate in one\n",
    "temp_args = {\n",
    "    \"load_model\": False, # Whether to use a pretrained network \n",
    "    \"load_folder_file\":None, # \n",
    "    \"checkpoint\":\"./temp/\", # stores checkpoints here\n",
    "    \"num_mcts_sims\":1000,\n",
    "    \"c\":0.1,\n",
    "    \"num_iters\":50, # number of times the NN is updated\n",
    "    \"maxlenOfQueue\": 200000,\n",
    "    \"numItersForTrainExamplesHistory\":20,\n",
    "    \"numEps\":20\n",
    "}\n",
    "\n",
    "temp_game = Game()\n",
    "\n",
    "n_s,r,d,i = temp_game.getNextState(2)\n",
    "n_s,r,d,i = temp_game.getNextState(1)\n",
    "n_s,r,d,i = temp_game.getNextState(3)\n",
    "n_s,r,d,i = temp_game.getNextState(2)\n",
    "n_s,r,d,i = temp_game.getNextState(4)\n",
    "\n",
    "p_print(temp_game.env.board)\n",
    "\n",
    "temp_mcts = my_mcts(temp_game,temp_args)\n",
    "temp_mcts.getActionProb(temp_game,2)\n"
   ]
  },
  {
   "cell_type": "code",
   "execution_count": 63,
   "id": "1f900270",
   "metadata": {},
   "outputs": [
    {
     "name": "stdout",
     "output_type": "stream",
     "text": [
      "total_time 0.0010039806365966797\n",
      "array([[0, 0, 0, 0, 0, 0, 0],\n",
      "       [0, 0, 0, 0, 0, 0, 0],\n",
      "       [0, 0, 0, 0, 0, 0, 0],\n",
      "       [0, 0, 0, 0, 0, 0, 0],\n",
      "       [0, 1, 0, 0, 0, 0, 0],\n",
      "       [1, 1, 2, 2, 2, 0, 0]])\n",
      "total time taken to run 1000 iterations is 0.9545364379882812\n",
      "The probability distribution is  [0, 0, 0, 0, 1, 0, 0]\n"
     ]
    },
    {
     "data": {
      "text/plain": [
       "[0, 0, 0, 0, 1, 0, 0]"
      ]
     },
     "execution_count": 63,
     "metadata": {},
     "output_type": "execute_result"
    }
   ],
   "source": [
    "# Lets make some puzzles to test the algorithm\n",
    "# Puzzle no 2 - player 1 has to stop a mate in one\n",
    "temp_args = {\n",
    "    \"load_model\": False, # Whether to use a pretrained network \n",
    "    \"load_folder_file\":None, # \n",
    "    \"checkpoint\":\"./temp/\", # stores checkpoints here\n",
    "    \"num_mcts_sims\":1000,\n",
    "    \"c\":0.1,\n",
    "    \"num_iters\":50, # number of times the NN is updated\n",
    "    \"maxlenOfQueue\": 200000,\n",
    "    \"numItersForTrainExamplesHistory\":20,\n",
    "    \"numEps\":20\n",
    "}\n",
    "\n",
    "temp_game = Game()\n",
    "\n",
    "start = time.time()\n",
    "n_s,r,d,i = temp_game.getNextState(1)\n",
    "n_s,r,d,i = temp_game.getNextState(2)\n",
    "n_s,r,d,i = temp_game.getNextState(1)\n",
    "n_s,r,d,i = temp_game.getNextState(3)\n",
    "n_s,r,d,i = temp_game.getNextState(0)\n",
    "n_s,r,d,i = temp_game.getNextState(4)\n",
    "print(f\"total_time {time.time() - start}\")\n",
    "p_print(temp_game.env.board)\n",
    "\n",
    "temp_mcts = my_mcts(temp_game,temp_args)\n",
    "temp_mcts.getActionProb(temp_game,1)\n"
   ]
  },
  {
   "cell_type": "code",
   "execution_count": 60,
   "id": "5a1a9310",
   "metadata": {},
   "outputs": [
    {
     "name": "stdout",
     "output_type": "stream",
     "text": [
      "total_time 0.0\n",
      "array([[0, 0, 0, 0, 0, 0, 0],\n",
      "       [0, 0, 0, 0, 0, 0, 0],\n",
      "       [0, 0, 0, 0, 0, 0, 0],\n",
      "       [0, 0, 0, 0, 0, 0, 0],\n",
      "       [0, 1, 0, 0, 0, 0, 0],\n",
      "       [1, 1, 2, 2, 2, 0, 0]])\n",
      "total time taken to run 1000 iterations is 0.9675066471099854\n",
      "The probability distribution is  [1, 0, 0, 0, 0, 0, 0]\n"
     ]
    },
    {
     "data": {
      "text/plain": [
       "[1, 0, 0, 0, 0, 0, 0]"
      ]
     },
     "execution_count": 60,
     "metadata": {},
     "output_type": "execute_result"
    }
   ],
   "source": [
    "# Lets make some puzzles to test the algorithm\n",
    "# Puzzle no 3 - player 2 has to find a way to do a mate in one\n",
    "temp_args = {\n",
    "    \"load_model\": False, # Whether to use a pretrained network \n",
    "    \"load_folder_file\":None, # \n",
    "    \"checkpoint\":\"./temp/\", # stores checkpoints here\n",
    "    \"num_mcts_sims\":1000,\n",
    "    \"c\":0.1,\n",
    "    \"num_iters\":50, # number of times the NN is updated\n",
    "    \"maxlenOfQueue\": 200000,\n",
    "    \"numItersForTrainExamplesHistory\":20,\n",
    "    \"numEps\":20\n",
    "}\n",
    "\n",
    "temp_game = Game()\n",
    "\n",
    "start = time.time()\n",
    "n_s,r,d,i = temp_game.getNextState(1)\n",
    "n_s,r,d,i = temp_game.getNextState(2)\n",
    "n_s,r,d,i = temp_game.getNextState(1)\n",
    "n_s,r,d,i = temp_game.getNextState(3)\n",
    "n_s,r,d,i = temp_game.getNextState(0)\n",
    "n_s,r,d,i = temp_game.getNextState(4)\n",
    "n_s,r,d,i = temp_game.getNextState(0)\n",
    "print(f\"total_time {time.time() - start}\")\n",
    "p_print(temp_game.env.board)\n",
    "\n",
    "temp_mcts = my_mcts(temp_game,temp_args)\n",
    "temp_mcts.getActionProb(temp_game,2)\n"
   ]
  },
  {
   "cell_type": "code",
   "execution_count": 61,
   "id": "a19ed025",
   "metadata": {},
   "outputs": [
    {
     "name": "stdout",
     "output_type": "stream",
     "text": [
      "array([[0, 0, 0, 0, 0, 0, 0],\n",
      "       [0, 0, 0, 0, 0, 0, 0],\n",
      "       [0, 0, 0, 0, 0, 0, 0],\n",
      "       [0, 0, 0, 0, 0, 0, 0],\n",
      "       [0, 0, 2, 0, 0, 0, 0],\n",
      "       [2, 2, 1, 1, 1, 0, 0]])\n",
      "total time taken to run 1000 iterations is 1.2641141414642334\n",
      "The probability distribution is  [1, 0, 0, 0, 0, 0, 0]\n"
     ]
    },
    {
     "data": {
      "text/plain": [
       "[1, 0, 0, 0, 0, 0, 0]"
      ]
     },
     "execution_count": 61,
     "metadata": {},
     "output_type": "execute_result"
    }
   ],
   "source": [
    "# Lets make some puzzles to test the algorithm\n",
    "# Puzzle no 1 - Player one has to find a way to do a mate in one\n",
    "temp_args = {\n",
    "    \"load_model\": False, # Whether to use a pretrained network \n",
    "    \"load_folder_file\":None, # \n",
    "    \"checkpoint\":\"./temp/\", # stores checkpoints here\n",
    "    \"num_mcts_sims\":1000,\n",
    "    \"c\":0.1,\n",
    "    \"num_iters\":50, # number of times the NN is updated\n",
    "    \"maxlenOfQueue\": 200000,\n",
    "    \"numItersForTrainExamplesHistory\":20,\n",
    "    \"numEps\":20\n",
    "}\n",
    "\n",
    "temp_game = Game()\n",
    "\n",
    "n_s,r,d,i = temp_game.getNextState(2)\n",
    "n_s,r,d,i = temp_game.getNextState(1)\n",
    "n_s,r,d,i = temp_game.getNextState(3)\n",
    "n_s,r,d,i = temp_game.getNextState(2)\n",
    "n_s,r,d,i = temp_game.getNextState(4)\n",
    "n_s,r,d,i = temp_game.getNextState(0)\n",
    "p_print(temp_game.env.board)\n",
    "\n",
    "temp_mcts = my_mcts(temp_game,temp_args)\n",
    "temp_mcts.getActionProb(temp_game,1)\n"
   ]
  },
  {
   "cell_type": "code",
   "execution_count": null,
   "id": "49cac525",
   "metadata": {},
   "outputs": [],
   "source": []
  }
 ],
 "metadata": {
  "kernelspec": {
   "display_name": "Python 3 (ipykernel)",
   "language": "python",
   "name": "python3"
  },
  "language_info": {
   "codemirror_mode": {
    "name": "ipython",
    "version": 3
   },
   "file_extension": ".py",
   "mimetype": "text/x-python",
   "name": "python",
   "nbconvert_exporter": "python",
   "pygments_lexer": "ipython3",
   "version": "3.9.16"
  }
 },
 "nbformat": 4,
 "nbformat_minor": 5
}
