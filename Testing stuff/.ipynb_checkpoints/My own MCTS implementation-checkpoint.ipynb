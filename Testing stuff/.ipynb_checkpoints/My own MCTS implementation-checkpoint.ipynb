{
 "cells": [
  {
   "cell_type": "code",
   "execution_count": 3,
   "id": "025aa771-37f8-4eed-8071-7775802bac2e",
   "metadata": {},
   "outputs": [],
   "source": [
    "import numpy as np\n",
    "import math\n",
    "from simplified_connectx import *"
   ]
  },
  {
   "cell_type": "code",
   "execution_count": 4,
   "id": "a7f3c17c-3ee4-4264-a2e0-af9d54108b13",
   "metadata": {},
   "outputs": [],
   "source": [
    "game = SimplifiedConnectX()"
   ]
  },
  {
   "cell_type": "code",
   "execution_count": null,
   "id": "6b0b48ed-898d-4b77-8377-a5593ecbd7a6",
   "metadata": {},
   "outputs": [],
   "source": []
  },
  {
   "cell_type": "code",
   "execution_count": null,
   "id": "ae13d4dd-21a2-47a9-b5d1-5128d1d08bfe",
   "metadata": {},
   "outputs": [],
   "source": [
    "def myMCTS():\n",
    "    \n",
    "    self.game = game\n",
    "    self.Q = {} # The Q value of the state s (determined by MCTS)\n",
    "    self.Nsa = {} # number of times state s was visited and action a was taken\n",
    "    self.Ns = {} #number of times state s was visited\n",
    "    self.Qsa = {} # The Q value for each state and action \n",
    "    \n",
    "    def getActionProb(self,game,opt_player):\n",
    "        # running the simulations\n",
    "        for i in range(self.args[\"numMCTSSims\"]):\n",
    "            self.search(game.create_copy(),opt_player)\n",
    "            \n",
    "        # Now that the tree is complete, lets look at the Q vals of the children\n",
    "        # of the root node and make the probability distribution w.r.t the Q\n",
    "        # values \n",
    "        \n",
    "        s = game.stringRepresentation()\n",
    "        # I think this gives us a vector of scores (wins) for each move\n",
    "        counts = [self.Qsa[(s, a)] if (s, a) in self.Qsa else 0 for a in range(game.getActionSize())]\n",
    "        \n",
    "        \n",
    "        counts_sum = float(sum(counts))\n",
    "        probs = [x / counts_sum for x in counts]\n",
    "        return probs\n",
    "    \n",
    "    def search(self,game,opt_player):\n",
    "        '''\n",
    "        Execute 1 episode of self play\n",
    "        '''\n",
    "        \n",
    "        \n",
    "        "
   ]
  },
  {
   "cell_type": "code",
   "execution_count": null,
   "id": "e36c850d-6897-4b85-aec5-8476e957884c",
   "metadata": {},
   "outputs": [],
   "source": []
  },
  {
   "cell_type": "code",
   "execution_count": null,
   "id": "0a1e788a-0430-4e6e-bdf0-c93b33f48b61",
   "metadata": {},
   "outputs": [],
   "source": []
  },
  {
   "cell_type": "code",
   "execution_count": null,
   "id": "71fd0d96-f673-4d90-96ef-a0a56d8b6d2b",
   "metadata": {},
   "outputs": [],
   "source": []
  },
  {
   "cell_type": "code",
   "execution_count": null,
   "id": "1e2e215f-9c78-4752-9a22-14b5f2fac498",
   "metadata": {},
   "outputs": [],
   "source": [
    "def monte_carlo_tree_search(root):\n",
    "     \n",
    "    while resources_left(time, computational power):\n",
    "        leaf = traverse(root)\n",
    "        simulation_result = rollout(leaf)\n",
    "        backpropagate(leaf, simulation_result)\n",
    "         \n",
    "    return best_child(root)\n",
    " \n",
    "    # function for node traversal\n",
    "    def traverse(node):\n",
    "        while fully_expanded(node):\n",
    "            node = best_uct(node)\n",
    "\n",
    "        # in case no children are present / node is terminal\n",
    "        return pick_unvisited(node.children) or node\n",
    "\n",
    "    # function for the result of the simulation\n",
    "    def rollout(node):\n",
    "        while non_terminal(node):\n",
    "            node = rollout_policy(node)\n",
    "        return result(node)\n",
    "\n",
    "    # function for randomly selecting a child node\n",
    "    def rollout_policy(node):\n",
    "        return pick_random(node.children)\n",
    "\n",
    "    # function for backpropagation\n",
    "    def backpropagate(node, result):\n",
    "        if is_root(node) return\n",
    "        node.stats = update_stats(node, result)\n",
    "        backpropagate(node.parent)\n",
    "\n",
    "    # function for selecting the best child\n",
    "    # node with highest number of visits\n",
    "    def best_child(node):\n",
    "        pick child with highest number of visits"
   ]
  },
  {
   "cell_type": "code",
   "execution_count": null,
   "id": "2de3a38b-15f9-4901-9a4e-7aaf291b72a9",
   "metadata": {},
   "outputs": [],
   "source": []
  },
  {
   "cell_type": "code",
   "execution_count": 6,
   "id": "f871cc20-f77b-45b1-8495-5509ca421d27",
   "metadata": {},
   "outputs": [],
   "source": [
    "# Chat GPT code\n",
    "import random\n",
    "\n",
    "class MCTS:\n",
    "    def __init__(self, game, iterations):\n",
    "        self.game = game\n",
    "        self.iterations = iterations\n",
    "\n",
    "    def search(self, state):\n",
    "        root = Node(state)\n",
    "\n",
    "        for i in range(self.iterations):\n",
    "            node = root\n",
    "            # Select a leaf node to expand\n",
    "            while not node.is_leaf():\n",
    "                node = self.select(node)\n",
    "\n",
    "            # Expand the leaf node and simulate a game from it\n",
    "            if not node.is_terminal():\n",
    "                node = self.expand(node)\n",
    "                reward = self.simulate(node.state)\n",
    "            else:\n",
    "                reward = node.state.utility()\n",
    "\n",
    "            # Backpropagate the reward up the tree\n",
    "            while node is not None:\n",
    "                node.update(reward)\n",
    "                node = node.parent\n",
    "\n",
    "        # Return the child with the highest number of visits\n",
    "        return self.select_best_child(root)\n",
    "\n",
    "    def select(self, node):\n",
    "        # Select the child with the highest UCB1 score\n",
    "        return max(node.children, key=lambda c: c.ucb1())\n",
    "\n",
    "    def expand(self, node):\n",
    "        # Add a random child to the node\n",
    "        child_state = random.choice(node.state.children())\n",
    "        child = Node(child_state, node)\n",
    "        node.add_child(child)\n",
    "        return child\n",
    "\n",
    "    def simulate(self, state):\n",
    "        # Play a random game from the current state and return the reward\n",
    "        while not state.is_terminal():\n",
    "            state = random.choice(state.children())\n",
    "        return state.utility()\n",
    "\n",
    "    def select_best_child(self, node):\n",
    "        # Return the child with the highest number of visits\n",
    "        return max(node.children, key=lambda c: c.visits)\n",
    "\n",
    "class Node:\n",
    "    def __init__(self, state, parent=None):\n",
    "        self.state = state\n",
    "        self.parent = parent\n",
    "        self.children = []\n",
    "        self.visits = 0\n",
    "        self.total_reward = 0\n",
    "\n",
    "    def is_leaf(self):\n",
    "        return len(self.children) == 0\n",
    "\n",
    "    def is_terminal(self):\n",
    "        return self.state.is_terminal()\n",
    "\n",
    "    def add_child(self, child):\n",
    "        self.children.append(child)\n",
    "\n",
    "    def update(self, reward):\n",
    "        self.visits += 1\n",
    "        self.total_reward += reward\n",
    "\n",
    "    def ucb1(self):\n",
    "        # Calculate the UCB1 score for this node\n",
    "        if self.visits == 0:\n",
    "            return float('inf')\n",
    "\n",
    "        exploration_term = math.sqrt(2 * math.log(self.parent.visits) / self.visits)\n",
    "        return self.total_reward / self.visits + exploration_term"
   ]
  },
  {
   "cell_type": "code",
   "execution_count": 7,
   "id": "a55f0ed3-b188-475d-bcf2-ad85975376c9",
   "metadata": {},
   "outputs": [],
   "source": []
  },
  {
   "cell_type": "code",
   "execution_count": 8,
   "id": "e51fe5dc-b2fe-48f4-91f0-9858f2a11fca",
   "metadata": {},
   "outputs": [],
   "source": []
  },
  {
   "cell_type": "code",
   "execution_count": 13,
   "id": "c837190e-bae4-494a-830a-2a57e9639413",
   "metadata": {},
   "outputs": [
    {
     "data": {
      "text/plain": [
       "1"
      ]
     },
     "execution_count": 13,
     "metadata": {},
     "output_type": "execute_result"
    }
   ],
   "source": []
  },
  {
   "cell_type": "code",
   "execution_count": null,
   "id": "ac25223d-669b-4694-9c24-e7a5d12b24f9",
   "metadata": {},
   "outputs": [],
   "source": [
    "\n"
   ]
  },
  {
   "cell_type": "code",
   "execution_count": null,
   "id": "cf77c600-e9f9-43af-8104-ac72d3d89919",
   "metadata": {},
   "outputs": [],
   "source": []
  }
 ],
 "metadata": {
  "kernelspec": {
   "display_name": "Python 3 (ipykernel)",
   "language": "python",
   "name": "python3"
  },
  "language_info": {
   "codemirror_mode": {
    "name": "ipython",
    "version": 3
   },
   "file_extension": ".py",
   "mimetype": "text/x-python",
   "name": "python",
   "nbconvert_exporter": "python",
   "pygments_lexer": "ipython3",
   "version": "3.9.7"
  }
 },
 "nbformat": 4,
 "nbformat_minor": 5
}
