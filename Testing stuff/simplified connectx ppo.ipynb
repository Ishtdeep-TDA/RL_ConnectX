{
 "cells": [
  {
   "cell_type": "code",
   "execution_count": 1,
   "id": "ca987bee-04a0-412a-ba19-8e01ac4df4df",
   "metadata": {},
   "outputs": [],
   "source": [
    "import gym\n",
    "from gym import spaces\n",
    "import numpy as np\n",
    "from pprint import pprint\n",
    "import random\n",
    "from simplified_connectx_ppo import *\n"
   ]
  },
  {
   "cell_type": "code",
   "execution_count": 2,
   "id": "21d61c93-e1a6-494b-8c65-d5d5282b0e07",
   "metadata": {},
   "outputs": [],
   "source": [
    "def p_print(board):\n",
    "    temp = board\n",
    "    temp = np.array(temp)\n",
    "    temp = temp.reshape(6,7)\n",
    "    pprint(temp)"
   ]
  },
  {
   "cell_type": "markdown",
   "id": "ed8b4f46-23e8-4ec4-ba7f-d8f0d4e537d8",
   "metadata": {},
   "source": [
    "#### When swapping the board, also swap the top and current player, done, info . They contain the state of the game."
   ]
  },
  {
   "cell_type": "code",
   "execution_count": 3,
   "id": "0067d30f-8f27-4789-a8a9-90f1794345af",
   "metadata": {},
   "outputs": [],
   "source": []
  },
  {
   "cell_type": "code",
   "execution_count": null,
   "id": "d3e623e0-539c-4b71-8727-0105f6bfe14c",
   "metadata": {},
   "outputs": [],
   "source": []
  },
  {
   "cell_type": "code",
   "execution_count": 3,
   "id": "e6f59607-aa1f-4d43-b9b3-5bc07c5e4156",
   "metadata": {},
   "outputs": [],
   "source": [
    "env = SimplifiedConnectXPPO()"
   ]
  },
  {
   "cell_type": "code",
   "execution_count": 5,
   "id": "766a97ad-b5df-407a-a593-a9c1894db134",
   "metadata": {},
   "outputs": [],
   "source": [
    "def play_random_game(env):\n",
    "    env.reset()\n",
    "    while not env.done:\n",
    "        possible_actions = env.get_possible_actions()\n",
    "        \n",
    "        action = random.choice(possible_actions)\n",
    "        obs,rew,d,info = env.step(action)\n",
    "#         p_print(obs)\n",
    "#         print(rew)\n",
    "#         print()\n",
    "        "
   ]
  },
  {
   "cell_type": "code",
   "execution_count": 6,
   "id": "b5e4e741-37bd-4f00-8ed8-331cfea51608",
   "metadata": {
    "scrolled": true,
    "tags": []
   },
   "outputs": [
    {
     "name": "stdout",
     "output_type": "stream",
     "text": [
      "total time 0.9862208366394043\n"
     ]
    }
   ],
   "source": [
    "import time\n",
    "start = time.time()\n",
    "# 1000 games / sec for random\n",
    "for i in range(1000):\n",
    "    play_random_game(env)\n",
    "    \n",
    "end = time.time() - start\n",
    "print(\"total time\", end)"
   ]
  },
  {
   "cell_type": "code",
   "execution_count": 7,
   "id": "6389ea6b-eff2-447f-bb0d-b2ca609e76cc",
   "metadata": {},
   "outputs": [
    {
     "data": {
      "text/plain": [
       "[5, 3, 1, 1, 1, 0, 4]"
      ]
     },
     "execution_count": 7,
     "metadata": {},
     "output_type": "execute_result"
    }
   ],
   "source": [
    "env.top"
   ]
  },
  {
   "cell_type": "code",
   "execution_count": 8,
   "id": "09bb9cc9-ada0-4f3e-a5ab-29c5276e1421",
   "metadata": {},
   "outputs": [],
   "source": [
    "arr = [0]*42\n",
    "\n",
    "arr[7*6 - 2] = 1\n",
    "arr[7*5 - 2] = 1\n",
    "arr[7*4 - 2] = 1\n",
    "arr[7*3 - 2] = 1\n",
    "\n",
    "arr[7*6 - 1] = 2\n",
    "arr[7*5 - 1] = 2\n",
    "arr[7*4 - 1] = 2\n",
    "arr[7*3 - 1] = 1\n",
    "\n",
    "arr[(6 - 1)*(7-1) + 0] = 1"
   ]
  },
  {
   "cell_type": "code",
   "execution_count": 9,
   "id": "d728ecff-fae2-4745-8aa6-30b8710f860c",
   "metadata": {
    "scrolled": true,
    "tags": []
   },
   "outputs": [
    {
     "name": "stdout",
     "output_type": "stream",
     "text": [
      "array([[0, 0, 0, 0, 0, 0, 0],\n",
      "       [0, 0, 0, 0, 0, 0, 0],\n",
      "       [0, 0, 0, 0, 0, 1, 1],\n",
      "       [0, 0, 0, 0, 0, 1, 2],\n",
      "       [0, 0, 1, 0, 0, 1, 2],\n",
      "       [0, 0, 0, 0, 0, 1, 2]])\n"
     ]
    }
   ],
   "source": [
    "p_print(arr)"
   ]
  },
  {
   "cell_type": "code",
   "execution_count": 10,
   "id": "5ccfca6e-5f14-43e0-9527-a33be60588d7",
   "metadata": {},
   "outputs": [
    {
     "data": {
      "text/plain": [
       "False"
      ]
     },
     "execution_count": 10,
     "metadata": {},
     "output_type": "execute_result"
    }
   ],
   "source": [
    "env.is_win(7,6,4,arr,6,2)"
   ]
  },
  {
   "cell_type": "code",
   "execution_count": 11,
   "id": "a1dd9b0f-6f45-44e1-8435-75461e9ebeb9",
   "metadata": {},
   "outputs": [],
   "source": [
    "arr = [0] *42\n",
    "top = [0]*7\n",
    "for i in range(6):\n",
    "    for j in range(7):\n",
    "        arr[(42) - top[j] * 7 - (7 - j)] = (i)*7 + (j+1)\n",
    "        top[j] += 1\n"
   ]
  },
  {
   "cell_type": "code",
   "execution_count": 12,
   "id": "c4e2347c-9774-4c07-9f97-ba43ca07038d",
   "metadata": {},
   "outputs": [
    {
     "name": "stdout",
     "output_type": "stream",
     "text": [
      "array([[36, 37, 38, 39, 40, 41, 42],\n",
      "       [29, 30, 31, 32, 33, 34, 35],\n",
      "       [22, 23, 24, 25, 26, 27, 28],\n",
      "       [15, 16, 17, 18, 19, 20, 21],\n",
      "       [ 8,  9, 10, 11, 12, 13, 14],\n",
      "       [ 1,  2,  3,  4,  5,  6,  7]])\n"
     ]
    }
   ],
   "source": [
    "p_print(arr)"
   ]
  },
  {
   "cell_type": "code",
   "execution_count": 13,
   "id": "848abf46-1a3f-44ba-8b71-02b00a3ff63a",
   "metadata": {},
   "outputs": [
    {
     "data": {
      "text/plain": [
       "[6, 6, 6, 6, 6, 6, 6]"
      ]
     },
     "execution_count": 13,
     "metadata": {},
     "output_type": "execute_result"
    }
   ],
   "source": [
    "top"
   ]
  },
  {
   "cell_type": "code",
   "execution_count": 14,
   "id": "4df09bfc-31b2-49ea-8485-b2a72c7741b8",
   "metadata": {},
   "outputs": [
    {
     "data": {
      "text/plain": [
       "9"
      ]
     },
     "execution_count": 14,
     "metadata": {},
     "output_type": "execute_result"
    }
   ],
   "source": [
    "arr[29]"
   ]
  },
  {
   "cell_type": "code",
   "execution_count": 113,
   "id": "3519abce-f67a-4bba-9ea3-45c3a70fa3d0",
   "metadata": {},
   "outputs": [
    {
     "data": {
      "text/plain": [
       "1"
      ]
     },
     "execution_count": 113,
     "metadata": {},
     "output_type": "execute_result"
    }
   ],
   "source": [
    "arr[42 - 7]"
   ]
  },
  {
   "cell_type": "code",
   "execution_count": 8,
   "id": "857b42f3-60c7-4a4f-a274-9c706c2bcb2b",
   "metadata": {},
   "outputs": [],
   "source": [
    "arr = [0, 0, 0, 0, 0, 0, 0, 0, 0, 0, 0, 0, 0, 0, 0, 0, 0, 0, 0, 0, 0, 0, 0, 0, 0, 0, 1, 0, 2, 2,\n",
    "0, 0, 0, 1, 2, 2, 1, 1, 0, 0, 1, 2]\n",
    "arr2 = [0, 0, 0, 0, 0, 0, 0, 0, 0, 0, 0, 0, 0, 0, 0, 0, 0, 0, 0, 1, 0, 0, 0, 0, 0, 0, 1, 0, 2, 2,\n",
    "0, 0, 0, 1, 2, 2, 1, 1, 0, 0, 1, 2]"
   ]
  },
  {
   "cell_type": "code",
   "execution_count": 9,
   "id": "f60a15ea-750b-4031-b2bf-7e1202357b8f",
   "metadata": {},
   "outputs": [
    {
     "name": "stdout",
     "output_type": "stream",
     "text": [
      "array([[0, 0, 0, 0, 0, 0, 0],\n",
      "       [0, 0, 0, 0, 0, 0, 0],\n",
      "       [0, 0, 0, 0, 0, 0, 0],\n",
      "       [0, 0, 0, 0, 0, 1, 0],\n",
      "       [2, 2, 0, 0, 0, 1, 2],\n",
      "       [2, 1, 1, 0, 0, 1, 2]])\n",
      "array([[0, 0, 0, 0, 0, 0, 0],\n",
      "       [0, 0, 0, 0, 0, 0, 0],\n",
      "       [0, 0, 0, 0, 0, 1, 0],\n",
      "       [0, 0, 0, 0, 0, 1, 0],\n",
      "       [2, 2, 0, 0, 0, 1, 2],\n",
      "       [2, 1, 1, 0, 0, 1, 2]])\n"
     ]
    }
   ],
   "source": [
    "p_print(arr)\n",
    "p_print(arr2)"
   ]
  },
  {
   "cell_type": "markdown",
   "id": "8455b8f1-5b28-4e16-ac80-0792f9fd5185",
   "metadata": {},
   "source": [
    "### Lets make a few puzzles to test how well the NN and the algorithm is doing"
   ]
  },
  {
   "cell_type": "markdown",
   "id": "85a3413e-10de-4227-98c7-0989d330e519",
   "metadata": {},
   "source": [
    "##### Win in one puzzle"
   ]
  },
  {
   "cell_type": "code",
   "execution_count": null,
   "id": "beb58729-ad70-43d6-b2f6-61d75d4d9358",
   "metadata": {},
   "outputs": [],
   "source": []
  },
  {
   "cell_type": "code",
   "execution_count": 15,
   "id": "03281dfc-8342-4ed6-b8c5-d7e68371a0f5",
   "metadata": {},
   "outputs": [],
   "source": [
    "import logging\n",
    "import os\n",
    "import sys\n",
    "from collections import deque\n",
    "from pickle import Pickler, Unpickler\n",
    "from random import shuffle\n",
    "\n",
    "import numpy as np\n",
    "from tqdm import tqdm\n",
    "\n",
    "from Arena import Arena\n",
    "from MCTS import MCTS\n",
    "from Game import Game\n",
    "from NeuralNet import *\n",
    "from Coach import *\n",
    "from pprint import pprint\n",
    "from utils import *"
   ]
  },
  {
   "cell_type": "code",
   "execution_count": 24,
   "id": "77da8e46-4b8e-41e2-8cab-ddeab82f1563",
   "metadata": {},
   "outputs": [],
   "source": [
    "class PureNN():\n",
    "    '''\n",
    "    This is the final agent in test mode\n",
    "    \n",
    "    '''\n",
    "    def __init__(self,load_folder_file):\n",
    "#       The location of where the model is stored\n",
    "        self.load_folder_file = load_folder_file\n",
    "        self.nn_args = {\n",
    "        'lr': 0.001,\n",
    "        'dropout': 0.3,\n",
    "        'epochs': 100,\n",
    "        'batch_size': 64,\n",
    "        'cuda': True,\n",
    "        'num_channels': 128,\n",
    "        'num_residual_layers': 20\n",
    "        }\n",
    "        self.game = Game()\n",
    "        self.nn = NeuralNet(self.game)\n",
    "        self.load_model()\n",
    "        \n",
    "        \n",
    "    def load_model(self):\n",
    "        self.nn.nnet.model.load_weights(self.load_folder_file)\n",
    "            \n",
    "    def get_best_action(self,board):\n",
    "        \n",
    "        self.game.env.board = board\n",
    "        cannonical = self.game.getCanonicalForm()\n",
    "        action = self.nn.predict(cannonical)\n",
    "        \n",
    "        return action"
   ]
  },
  {
   "cell_type": "code",
   "execution_count": 39,
   "id": "8289b9bc-4879-4c07-8d4f-cf92d0fedb68",
   "metadata": {},
   "outputs": [],
   "source": [
    "weights_location = r\"C:\\Users\\TheDarkAce\\Jupyter scripts\\COMP 552 RL\\Project\\Simplified connectX\\temp2\\temp.h5\"\n",
    "pure = PureNN(weights_location)"
   ]
  },
  {
   "cell_type": "code",
   "execution_count": 40,
   "id": "9d12b67a-2893-48f7-a8e1-8d02963d9318",
   "metadata": {},
   "outputs": [
    {
     "name": "stdout",
     "output_type": "stream",
     "text": [
      "array([[0, 0, 0, 0, 0, 0, 0],\n",
      "       [0, 0, 0, 0, 0, 0, 0],\n",
      "       [0, 0, 0, 0, 0, 0, 0],\n",
      "       [0, 0, 0, 0, 0, 0, 0],\n",
      "       [0, 0, 0, 0, 0, 0, 0],\n",
      "       [2, 2, 2, 0, 0, 1, 1]])\n"
     ]
    }
   ],
   "source": [
    "arr = [0, 0, 0, 0, 0, 0, 0, 0, 0, 0, 0, 0, 0, 0, 0, 0, 0, 0, 0, 0, 0, 0, 0, 0, 0, 0, 0, 0, 0, 0,\n",
    "0, 0, 0, 0, 0, 2, 2, 2, 0, 0, 1, 1]\n",
    "p_print(arr)"
   ]
  },
  {
   "cell_type": "code",
   "execution_count": 41,
   "id": "250ffc3a-d023-4228-9695-97cf2f2e3305",
   "metadata": {},
   "outputs": [
    {
     "data": {
      "text/plain": [
       "(array([0.10954547, 0.07764035, 0.02893143, 0.1603642 , 0.33768496,\n",
       "        0.21115717, 0.0746764 ], dtype=float32),\n",
       " array([-0.2861795], dtype=float32))"
      ]
     },
     "execution_count": 41,
     "metadata": {},
     "output_type": "execute_result"
    }
   ],
   "source": [
    "pure.get_best_action(arr)"
   ]
  },
  {
   "cell_type": "code",
   "execution_count": null,
   "id": "b7c882e8-3932-4ee4-b31a-692b0f1ee6e6",
   "metadata": {},
   "outputs": [],
   "source": []
  }
 ],
 "metadata": {
  "kernelspec": {
   "display_name": "Python 3 (ipykernel)",
   "language": "python",
   "name": "python3"
  },
  "language_info": {
   "codemirror_mode": {
    "name": "ipython",
    "version": 3
   },
   "file_extension": ".py",
   "mimetype": "text/x-python",
   "name": "python",
   "nbconvert_exporter": "python",
   "pygments_lexer": "ipython3",
   "version": "3.9.7"
  }
 },
 "nbformat": 4,
 "nbformat_minor": 5
}
